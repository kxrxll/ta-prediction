{
 "cells": [
  {
   "cell_type": "markdown",
   "id": "8b33b2b2-ec3d-48f4-9b20-e0aa9cdec726",
   "metadata": {},
   "source": [
    "# TrackAd data prediction"
   ]
  },
  {
   "cell_type": "markdown",
   "id": "fa49cbd7-c82d-402f-ae21-705bdfd70c29",
   "metadata": {},
   "source": [
    "## Imports"
   ]
  },
  {
   "cell_type": "code",
   "execution_count": 1,
   "id": "f710187f-c24e-4c12-bc1d-36d0ac9d5384",
   "metadata": {
    "scrolled": true
   },
   "outputs": [],
   "source": [
    "import requests\n",
    "import pandas as pd\n",
    "import matplotlib.pyplot as plt\n",
    "import seaborn as sns\n",
    "import numpy as np\n",
    "from sklearn.preprocessing import LabelEncoder\n",
    "from sklearn.ensemble import RandomForestClassifier\n",
    "from sklearn.model_selection import train_test_split\n",
    "from sklearn.metrics import accuracy_score\n",
    "from tatoken import token, client\n",
    "\n",
    "class BearerAuth(requests.auth.AuthBase):\n",
    "    def __init__(self, token):\n",
    "        self.token = token\n",
    "    def __call__(self, r):\n",
    "        r.headers[\"authorization\"] = \"Bearer \" + self.token\n",
    "        return r"
   ]
  },
  {
   "cell_type": "markdown",
   "id": "144985d9-9d17-4439-8e95-43b1d43c5b8a",
   "metadata": {},
   "source": [
    "## Settings"
   ]
  },
  {
   "cell_type": "code",
   "execution_count": 2,
   "id": "b5fdc9ce-977e-4524-b622-8a47c16d8658",
   "metadata": {},
   "outputs": [],
   "source": [
    "date_from = '2023-01-01'\n",
    "date_to = '2024-06-30'\n",
    "test_date_from = '2024-07-01'\n",
    "test_date_to = '2024-07-31'\n",
    "url = f'https://trackad-common.trackad.ai/api/source-statistics/client/{client}/date-from/{date_from}/date-to/{date_to}'\n",
    "test_url = f'https://trackad-common.trackad.ai/api/source-statistics/client/{client}/date-from/{date_from}/date-to/{date_to}'"
   ]
  },
  {
   "cell_type": "markdown",
   "id": "bd243b0c-6c86-4108-b65a-af52215e9c06",
   "metadata": {},
   "source": [
    "## Request"
   ]
  },
  {
   "cell_type": "code",
   "execution_count": null,
   "id": "47988a0f-ac49-4abb-9325-69f8abee224d",
   "metadata": {
    "scrolled": true
   },
   "outputs": [],
   "source": [
    "response = requests.get(url, auth=BearerAuth(token))\n",
    "pd.set_option('display.max_columns', None)\n",
    "df = pd.json_normalize(response.json()['sourceStatistics'])\n",
    "df.head()"
   ]
  },
  {
   "cell_type": "markdown",
   "id": "f013265f-207e-47e0-b93b-ec40206f5052",
   "metadata": {},
   "source": [
    "## KPI selection"
   ]
  },
  {
   "cell_type": "code",
   "execution_count": null,
   "id": "97fb69d3-0f9c-4d88-865d-75295f3717b4",
   "metadata": {
    "scrolled": true
   },
   "outputs": [],
   "source": [
    "df = df[['date', 'source_name', 'visits', 'newVisits', 'bounces', 'orderCount', 'acquisitionCost', 'revenue', 'newOrderCount']]\n",
    "df['date'] = pd.to_datetime(df['date'])\n",
    "df.head()"
   ]
  },
  {
   "cell_type": "markdown",
   "id": "5d19f526-a427-48ab-ab5e-85d43a927eb2",
   "metadata": {},
   "source": [
    "## Dates formating"
   ]
  },
  {
   "cell_type": "code",
   "execution_count": null,
   "id": "59678726-07b5-418a-a5f0-f37e671dff71",
   "metadata": {},
   "outputs": [],
   "source": [
    "df['date'] = pd.to_datetime(df['date'])\n",
    "df['Year'] = df['date'].apply(lambda time: time.year)\n",
    "df['Month'] = df['date'].apply(lambda time: time.month)\n",
    "df['Day'] = df['date'].apply(lambda time: time.day)\n",
    "df['Weekday'] = df['date'].apply(lambda time: time.weekday())\n",
    "df.head()"
   ]
  },
  {
   "cell_type": "markdown",
   "id": "f80d4294-2f03-4bd8-8604-e41a41aa4921",
   "metadata": {},
   "source": [
    "## Source encoding"
   ]
  },
  {
   "cell_type": "code",
   "execution_count": 6,
   "id": "020709b5-83c7-478d-8b60-f11d8f9155d1",
   "metadata": {},
   "outputs": [],
   "source": [
    "source_names = df['source_name'].unique()"
   ]
  },
  {
   "cell_type": "code",
   "execution_count": null,
   "id": "ab365c68-59ad-482b-bc6d-12764a0a0a6b",
   "metadata": {
    "scrolled": true
   },
   "outputs": [],
   "source": [
    "label_encoder = LabelEncoder()\n",
    "\n",
    "columns = df.select_dtypes(include='object').columns\n",
    "\n",
    "for column in columns:\n",
    "    df[column] = label_encoder.fit_transform(df[column])\n",
    "\n",
    "df.head()"
   ]
  },
  {
   "cell_type": "code",
   "execution_count": null,
   "id": "22a5db4d-1b45-4a5e-baee-f39bb8b3f62b",
   "metadata": {
    "scrolled": true
   },
   "outputs": [],
   "source": [
    "source_name_codes = df['source_name'].unique()\n",
    "sources_name_codes_table = pd.DataFrame({'source_names':source_names, 'source_name_codes':source_name_codes})\n",
    "sources_name_codes_table.head()"
   ]
  },
  {
   "cell_type": "code",
   "execution_count": null,
   "id": "1908ae27-d2b8-4f80-a118-6e9d79b32047",
   "metadata": {},
   "outputs": [],
   "source": [
    "codes = {\n",
    "    'name': source_names,\n",
    "    'code': source_name_codes\n",
    "}\n",
    "codes_df = pd.DataFrame(codes).sort_values(['code'])\n",
    "codes_df"
   ]
  },
  {
   "cell_type": "markdown",
   "id": "fbb0fdd6-d987-418e-bb8f-be650be4ca3c",
   "metadata": {},
   "source": [
    "## Model creation"
   ]
  },
  {
   "cell_type": "code",
   "execution_count": 10,
   "id": "107fbb10-5953-4145-ad36-8e8ed395d057",
   "metadata": {},
   "outputs": [
    {
     "data": {
      "text/plain": [
       "0.9236289082521784"
      ]
     },
     "execution_count": 10,
     "metadata": {},
     "output_type": "execute_result"
    }
   ],
   "source": [
    "X = df.drop(columns=['orderCount', 'visits', 'newVisits', 'bounces', 'acquisitionCost', 'revenue', 'newOrderCount', 'date'])\n",
    "y = df['orderCount']\n",
    "\n",
    "model = RandomForestClassifier()\n",
    "\n",
    "X_train, X_test, y_train, y_test = train_test_split(X, y, test_size=0.1)\n",
    "\n",
    "model.fit(X_train, y_train)\n",
    "\n",
    "predictions = model.predict(X_test)\n",
    "predictions\n",
    "\n",
    "model_score = accuracy_score(y_test, predictions)\n",
    "model_score"
   ]
  },
  {
   "cell_type": "markdown",
   "id": "a5b55798-ff4a-44ce-989c-8bed196da196",
   "metadata": {},
   "source": [
    "## Output creation"
   ]
  },
  {
   "cell_type": "code",
   "execution_count": null,
   "id": "fe3a7e29-e68a-4a64-b7a8-9cab62a8100d",
   "metadata": {},
   "outputs": [],
   "source": [
    "X.iloc[:0].to_dict()"
   ]
  },
  {
   "cell_type": "code",
   "execution_count": 13,
   "id": "be4a9455-b3a5-473c-b9fa-e0282ec0cc9d",
   "metadata": {},
   "outputs": [],
   "source": [
    "resulting_df = codes_df['name']\n",
    "day = 1\n",
    "month = 7\n",
    "weekday = 0\n",
    "year = 2024\n",
    "sources_number = 213"
   ]
  },
  {
   "cell_type": "code",
   "execution_count": 14,
   "id": "088503f0-a003-43a9-9528-c1d2e361c4ff",
   "metadata": {},
   "outputs": [],
   "source": [
    "while day < 32:\n",
    "    test_inputs = {\n",
    "        'source_name': range(sources_number), \n",
    "        'Year': np.full(sources_number, year),\n",
    "        'Month': np.full(sources_number, month), \n",
    "        'Day': np.full(sources_number, day), \n",
    "        'Weekday': np.full(sources_number, weekday)\n",
    "    }\n",
    "    test_df = pd.DataFrame(test_inputs)\n",
    "    test_df[f'{year}-{month}-{day}'] = model.predict(test_df).tolist()\n",
    "    resulting_df = pd.concat([resulting_df, test_df.drop(['Year', 'Month', 'Day', 'Weekday', 'source_name'], axis=1)], axis=1)\n",
    "    day += 1\n",
    "    if weekday < 7:\n",
    "        weekday += 1\n",
    "    else:\n",
    "        weekday = 0"
   ]
  },
  {
   "cell_type": "code",
   "execution_count": 15,
   "id": "b379c62b-5f13-4252-bcfb-4c6619bc4374",
   "metadata": {},
   "outputs": [],
   "source": [
    "resulting_df.to_csv('out.csv', encoding='utf-8', index=False, header=True)"
   ]
  }
 ],
 "metadata": {
  "kernelspec": {
   "display_name": "Python 3 (ipykernel)",
   "language": "python",
   "name": "python3"
  },
  "language_info": {
   "codemirror_mode": {
    "name": "ipython",
    "version": 3
   },
   "file_extension": ".py",
   "mimetype": "text/x-python",
   "name": "python",
   "nbconvert_exporter": "python",
   "pygments_lexer": "ipython3",
   "version": "3.12.3"
  }
 },
 "nbformat": 4,
 "nbformat_minor": 5
}
